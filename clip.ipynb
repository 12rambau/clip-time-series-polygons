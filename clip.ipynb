{
 "cells": [
  {
   "cell_type": "code",
   "execution_count": 1,
   "metadata": {},
   "outputs": [],
   "source": [
    "# import parameters \n",
    "from parameters import *"
   ]
  },
  {
   "cell_type": "markdown",
   "metadata": {},
   "source": [
    "## Read the polygons file "
   ]
  },
  {
   "cell_type": "code",
   "execution_count": 2,
   "metadata": {},
   "outputs": [
    {
     "name": "stdout",
     "output_type": "stream",
     "text": [
      "True\n"
     ]
    }
   ],
   "source": [
    "import os \n",
    "\n",
    "polygon_file = os.path.expanduser(polygon_file)\n",
    "\n",
    "# verify that the file existe \n",
    "print(os.path.isfile(polygon_file))"
   ]
  },
  {
   "cell_type": "markdown",
   "metadata": {},
   "source": [
    "## Read the polygons file "
   ]
  },
  {
   "cell_type": "code",
   "execution_count": 6,
   "metadata": {},
   "outputs": [
    {
     "data": {
      "text/html": [
       "<div>\n",
       "<style scoped>\n",
       "    .dataframe tbody tr th:only-of-type {\n",
       "        vertical-align: middle;\n",
       "    }\n",
       "\n",
       "    .dataframe tbody tr th {\n",
       "        vertical-align: top;\n",
       "    }\n",
       "\n",
       "    .dataframe thead th {\n",
       "        text-align: right;\n",
       "    }\n",
       "</style>\n",
       "<table border=\"1\" class=\"dataframe\">\n",
       "  <thead>\n",
       "    <tr style=\"text-align: right;\">\n",
       "      <th></th>\n",
       "      <th>YEAR_</th>\n",
       "      <th>RESERVE</th>\n",
       "      <th>Ownership</th>\n",
       "      <th>Shape_Leng</th>\n",
       "      <th>Shape_Area</th>\n",
       "      <th>SP_Name</th>\n",
       "      <th>Sp_class</th>\n",
       "      <th>water_mgtZ</th>\n",
       "      <th>Name</th>\n",
       "      <th>layer</th>\n",
       "      <th>id</th>\n",
       "      <th>geometry</th>\n",
       "    </tr>\n",
       "  </thead>\n",
       "  <tbody>\n",
       "    <tr>\n",
       "      <th>0</th>\n",
       "      <td>2006</td>\n",
       "      <td>Bujawe</td>\n",
       "      <td>NFA</td>\n",
       "      <td>2742.477747</td>\n",
       "      <td>271665.183923</td>\n",
       "      <td>Eucalyptus grandis</td>\n",
       "      <td>Broadleaved</td>\n",
       "      <td>Albert Water Management Zone</td>\n",
       "      <td>BujaweNFA</td>\n",
       "      <td>NFA_Plantations_Jan2021</td>\n",
       "      <td>1</td>\n",
       "      <td>POLYGON ((31.19657 1.53990, 31.19414 1.54045, ...</td>\n",
       "    </tr>\n",
       "    <tr>\n",
       "      <th>1</th>\n",
       "      <td>2017</td>\n",
       "      <td>Kaweri</td>\n",
       "      <td>NFA</td>\n",
       "      <td>4297.979169</td>\n",
       "      <td>625614.849598</td>\n",
       "      <td>Eucalyptus grandis</td>\n",
       "      <td>Broadleaved</td>\n",
       "      <td>Victoria Water Management Zo</td>\n",
       "      <td>Kaweri NFA</td>\n",
       "      <td>NFA_Plantations_Jan2021</td>\n",
       "      <td>2</td>\n",
       "      <td>POLYGON ((31.43501 0.60211, 31.43504 0.60209, ...</td>\n",
       "    </tr>\n",
       "    <tr>\n",
       "      <th>2</th>\n",
       "      <td>2017</td>\n",
       "      <td>Mafuga</td>\n",
       "      <td>Private</td>\n",
       "      <td>3938.167795</td>\n",
       "      <td>808056.323881</td>\n",
       "      <td>Eucalyptus grandis</td>\n",
       "      <td>Broadleaved</td>\n",
       "      <td>Albert Water Management Zone</td>\n",
       "      <td>Mafuga Private</td>\n",
       "      <td>Private_Plantations_Jan2021</td>\n",
       "      <td>3</td>\n",
       "      <td>POLYGON ((29.85428 -1.01405, 29.85429 -1.01405...</td>\n",
       "    </tr>\n",
       "    <tr>\n",
       "      <th>3</th>\n",
       "      <td>2005</td>\n",
       "      <td>Rwoho</td>\n",
       "      <td>NFA</td>\n",
       "      <td>6001.759500</td>\n",
       "      <td>878570.695436</td>\n",
       "      <td>Pinus caribaea</td>\n",
       "      <td>Coniferous</td>\n",
       "      <td>Victoria Water Management Zo</td>\n",
       "      <td>Rwoho NFA</td>\n",
       "      <td>NFA_Plantations_Jan2021</td>\n",
       "      <td>4</td>\n",
       "      <td>POLYGON ((30.54939 -0.83256, 30.54947 -0.83323...</td>\n",
       "    </tr>\n",
       "    <tr>\n",
       "      <th>4</th>\n",
       "      <td>1986</td>\n",
       "      <td>Nandagi</td>\n",
       "      <td>NFA</td>\n",
       "      <td>3418.832619</td>\n",
       "      <td>489515.000001</td>\n",
       "      <td>Terminalia sp.</td>\n",
       "      <td>Broadleaved</td>\n",
       "      <td>Kyoga Water Management Zone</td>\n",
       "      <td>Nandagi NFA</td>\n",
       "      <td>NFA_Plantations_Jan2021</td>\n",
       "      <td>5</td>\n",
       "      <td>POLYGON ((32.82506 0.38618, 32.82490 0.38627, ...</td>\n",
       "    </tr>\n",
       "  </tbody>\n",
       "</table>\n",
       "</div>"
      ],
      "text/plain": [
       "   YEAR_  RESERVE Ownership   Shape_Leng     Shape_Area             SP_Name  \\\n",
       "0   2006   Bujawe       NFA  2742.477747  271665.183923  Eucalyptus grandis   \n",
       "1   2017   Kaweri       NFA  4297.979169  625614.849598  Eucalyptus grandis   \n",
       "2   2017   Mafuga   Private  3938.167795  808056.323881  Eucalyptus grandis   \n",
       "3   2005    Rwoho       NFA  6001.759500  878570.695436      Pinus caribaea   \n",
       "4   1986  Nandagi       NFA  3418.832619  489515.000001      Terminalia sp.   \n",
       "\n",
       "      Sp_class                    water_mgtZ            Name  \\\n",
       "0  Broadleaved  Albert Water Management Zone       BujaweNFA   \n",
       "1  Broadleaved  Victoria Water Management Zo      Kaweri NFA   \n",
       "2  Broadleaved  Albert Water Management Zone  Mafuga Private   \n",
       "3   Coniferous  Victoria Water Management Zo       Rwoho NFA   \n",
       "4  Broadleaved   Kyoga Water Management Zone     Nandagi NFA   \n",
       "\n",
       "                         layer  id  \\\n",
       "0      NFA_Plantations_Jan2021   1   \n",
       "1      NFA_Plantations_Jan2021   2   \n",
       "2  Private_Plantations_Jan2021   3   \n",
       "3      NFA_Plantations_Jan2021   4   \n",
       "4      NFA_Plantations_Jan2021   5   \n",
       "\n",
       "                                            geometry  \n",
       "0  POLYGON ((31.19657 1.53990, 31.19414 1.54045, ...  \n",
       "1  POLYGON ((31.43501 0.60211, 31.43504 0.60209, ...  \n",
       "2  POLYGON ((29.85428 -1.01405, 29.85429 -1.01405...  \n",
       "3  POLYGON ((30.54939 -0.83256, 30.54947 -0.83323...  \n",
       "4  POLYGON ((32.82506 0.38618, 32.82490 0.38627, ...  "
      ]
     },
     "execution_count": 6,
     "metadata": {},
     "output_type": "execute_result"
    }
   ],
   "source": [
    "# insert the polygons in a geopandas dataframe\n",
    "import geopandas as gdp \n",
    "\n",
    "polygons = gdp.read_file(polygon_file)\n",
    "polygons.head()"
   ]
  },
  {
   "cell_type": "code",
   "execution_count": 7,
   "metadata": {},
   "outputs": [
    {
     "data": {
      "text/html": [
       "<div>\n",
       "<style scoped>\n",
       "    .dataframe tbody tr th:only-of-type {\n",
       "        vertical-align: middle;\n",
       "    }\n",
       "\n",
       "    .dataframe tbody tr th {\n",
       "        vertical-align: top;\n",
       "    }\n",
       "\n",
       "    .dataframe thead th {\n",
       "        text-align: right;\n",
       "    }\n",
       "</style>\n",
       "<table border=\"1\" class=\"dataframe\">\n",
       "  <thead>\n",
       "    <tr style=\"text-align: right;\">\n",
       "      <th></th>\n",
       "      <th>YEAR_</th>\n",
       "      <th>RESERVE</th>\n",
       "      <th>Ownership</th>\n",
       "      <th>Shape_Leng</th>\n",
       "      <th>Shape_Area</th>\n",
       "      <th>SP_Name</th>\n",
       "      <th>Sp_class</th>\n",
       "      <th>water_mgtZ</th>\n",
       "      <th>Name</th>\n",
       "      <th>layer</th>\n",
       "      <th>id</th>\n",
       "      <th>geometry</th>\n",
       "    </tr>\n",
       "  </thead>\n",
       "  <tbody>\n",
       "    <tr>\n",
       "      <th>0</th>\n",
       "      <td>2006</td>\n",
       "      <td>Bujawe</td>\n",
       "      <td>NFA</td>\n",
       "      <td>2742.477747</td>\n",
       "      <td>271665.183923</td>\n",
       "      <td>Eucalyptus grandis</td>\n",
       "      <td>Broadleaved</td>\n",
       "      <td>Albert Water Management Zone</td>\n",
       "      <td>BujaweNFA</td>\n",
       "      <td>NFA_Plantations_Jan2021</td>\n",
       "      <td>1</td>\n",
       "      <td>POLYGON ((31.19657 1.53990, 31.19414 1.54045, ...</td>\n",
       "    </tr>\n",
       "    <tr>\n",
       "      <th>1</th>\n",
       "      <td>2017</td>\n",
       "      <td>Kaweri</td>\n",
       "      <td>NFA</td>\n",
       "      <td>4297.979169</td>\n",
       "      <td>625614.849598</td>\n",
       "      <td>Eucalyptus grandis</td>\n",
       "      <td>Broadleaved</td>\n",
       "      <td>Victoria Water Management Zo</td>\n",
       "      <td>Kaweri NFA</td>\n",
       "      <td>NFA_Plantations_Jan2021</td>\n",
       "      <td>2</td>\n",
       "      <td>POLYGON ((31.43501 0.60211, 31.43504 0.60209, ...</td>\n",
       "    </tr>\n",
       "  </tbody>\n",
       "</table>\n",
       "</div>"
      ],
      "text/plain": [
       "   YEAR_ RESERVE Ownership   Shape_Leng     Shape_Area             SP_Name  \\\n",
       "0   2006  Bujawe       NFA  2742.477747  271665.183923  Eucalyptus grandis   \n",
       "1   2017  Kaweri       NFA  4297.979169  625614.849598  Eucalyptus grandis   \n",
       "\n",
       "      Sp_class                    water_mgtZ        Name  \\\n",
       "0  Broadleaved  Albert Water Management Zone   BujaweNFA   \n",
       "1  Broadleaved  Victoria Water Management Zo  Kaweri NFA   \n",
       "\n",
       "                     layer  id  \\\n",
       "0  NFA_Plantations_Jan2021   1   \n",
       "1  NFA_Plantations_Jan2021   2   \n",
       "\n",
       "                                            geometry  \n",
       "0  POLYGON ((31.19657 1.53990, 31.19414 1.54045, ...  \n",
       "1  POLYGON ((31.43501 0.60211, 31.43504 0.60209, ...  "
      ]
     },
     "execution_count": 7,
     "metadata": {},
     "output_type": "execute_result"
    }
   ],
   "source": [
    "# only select the specific one (if test mode)\n",
    "if test_mode:\n",
    "    polygons = polygons[polygons['id'] < 3]\n",
    "polygons"
   ]
  },
  {
   "cell_type": "code",
   "execution_count": 8,
   "metadata": {},
   "outputs": [
    {
     "data": {
      "text/html": [
       "<div>\n",
       "<style scoped>\n",
       "    .dataframe tbody tr th:only-of-type {\n",
       "        vertical-align: middle;\n",
       "    }\n",
       "\n",
       "    .dataframe tbody tr th {\n",
       "        vertical-align: top;\n",
       "    }\n",
       "\n",
       "    .dataframe thead th {\n",
       "        text-align: right;\n",
       "    }\n",
       "</style>\n",
       "<table border=\"1\" class=\"dataframe\">\n",
       "  <thead>\n",
       "    <tr style=\"text-align: right;\">\n",
       "      <th></th>\n",
       "      <th>YEAR_</th>\n",
       "      <th>RESERVE</th>\n",
       "      <th>Ownership</th>\n",
       "      <th>Shape_Leng</th>\n",
       "      <th>Shape_Area</th>\n",
       "      <th>SP_Name</th>\n",
       "      <th>Sp_class</th>\n",
       "      <th>water_mgtZ</th>\n",
       "      <th>Name</th>\n",
       "      <th>layer</th>\n",
       "      <th>id</th>\n",
       "      <th>geometry</th>\n",
       "    </tr>\n",
       "  </thead>\n",
       "  <tbody>\n",
       "    <tr>\n",
       "      <th>0</th>\n",
       "      <td>2006</td>\n",
       "      <td>Bujawe</td>\n",
       "      <td>NFA</td>\n",
       "      <td>2742.477747</td>\n",
       "      <td>271665.183923</td>\n",
       "      <td>Eucalyptus grandis</td>\n",
       "      <td>Broadleaved</td>\n",
       "      <td>Albert Water Management Zone</td>\n",
       "      <td>BujaweNFA</td>\n",
       "      <td>NFA_Plantations_Jan2021</td>\n",
       "      <td>1</td>\n",
       "      <td>POLYGON ((31.20757 1.54930, 31.20757 1.53128, ...</td>\n",
       "    </tr>\n",
       "    <tr>\n",
       "      <th>1</th>\n",
       "      <td>2017</td>\n",
       "      <td>Kaweri</td>\n",
       "      <td>NFA</td>\n",
       "      <td>4297.979169</td>\n",
       "      <td>625614.849598</td>\n",
       "      <td>Eucalyptus grandis</td>\n",
       "      <td>Broadleaved</td>\n",
       "      <td>Victoria Water Management Zo</td>\n",
       "      <td>Kaweri NFA</td>\n",
       "      <td>NFA_Plantations_Jan2021</td>\n",
       "      <td>2</td>\n",
       "      <td>POLYGON ((31.44150 0.60583, 31.44150 0.58782, ...</td>\n",
       "    </tr>\n",
       "  </tbody>\n",
       "</table>\n",
       "</div>"
      ],
      "text/plain": [
       "   YEAR_ RESERVE Ownership   Shape_Leng     Shape_Area             SP_Name  \\\n",
       "0   2006  Bujawe       NFA  2742.477747  271665.183923  Eucalyptus grandis   \n",
       "1   2017  Kaweri       NFA  4297.979169  625614.849598  Eucalyptus grandis   \n",
       "\n",
       "      Sp_class                    water_mgtZ        Name  \\\n",
       "0  Broadleaved  Albert Water Management Zone   BujaweNFA   \n",
       "1  Broadleaved  Victoria Water Management Zo  Kaweri NFA   \n",
       "\n",
       "                     layer  id  \\\n",
       "0  NFA_Plantations_Jan2021   1   \n",
       "1  NFA_Plantations_Jan2021   2   \n",
       "\n",
       "                                            geometry  \n",
       "0  POLYGON ((31.20757 1.54930, 31.20757 1.53128, ...  \n",
       "1  POLYGON ((31.44150 0.60583, 31.44150 0.58782, ...  "
      ]
     },
     "execution_count": 8,
     "metadata": {},
     "output_type": "execute_result"
    }
   ],
   "source": [
    "# transform the polygon into a square\n",
    "from utils import *\n",
    "\n",
    "squares = polygons.copy()\n",
    "squares['geometry'] = squares['geometry'].map(to_square)\n",
    "\n",
    "squares.head()"
   ]
  },
  {
   "cell_type": "code",
   "execution_count": 9,
   "metadata": {},
   "outputs": [
    {
     "data": {
      "text/html": [
       "<div>\n",
       "<style scoped>\n",
       "    .dataframe tbody tr th:only-of-type {\n",
       "        vertical-align: middle;\n",
       "    }\n",
       "\n",
       "    .dataframe tbody tr th {\n",
       "        vertical-align: top;\n",
       "    }\n",
       "\n",
       "    .dataframe thead th {\n",
       "        text-align: right;\n",
       "    }\n",
       "</style>\n",
       "<table border=\"1\" class=\"dataframe\">\n",
       "  <thead>\n",
       "    <tr style=\"text-align: right;\">\n",
       "      <th></th>\n",
       "      <th>YEAR_</th>\n",
       "      <th>RESERVE</th>\n",
       "      <th>Ownership</th>\n",
       "      <th>Shape_Leng</th>\n",
       "      <th>Shape_Area</th>\n",
       "      <th>SP_Name</th>\n",
       "      <th>Sp_class</th>\n",
       "      <th>water_mgtZ</th>\n",
       "      <th>Name</th>\n",
       "      <th>layer</th>\n",
       "      <th>id</th>\n",
       "      <th>geometry</th>\n",
       "      <th>ee_geometry</th>\n",
       "    </tr>\n",
       "  </thead>\n",
       "  <tbody>\n",
       "    <tr>\n",
       "      <th>0</th>\n",
       "      <td>2006</td>\n",
       "      <td>Bujawe</td>\n",
       "      <td>NFA</td>\n",
       "      <td>2742.477747</td>\n",
       "      <td>271665.183923</td>\n",
       "      <td>Eucalyptus grandis</td>\n",
       "      <td>Broadleaved</td>\n",
       "      <td>Albert Water Management Zone</td>\n",
       "      <td>BujaweNFA</td>\n",
       "      <td>NFA_Plantations_Jan2021</td>\n",
       "      <td>1</td>\n",
       "      <td>POLYGON ((31.20757 1.54930, 31.20757 1.53128, ...</td>\n",
       "      <td>ee.Geometry({\\n  \"functionInvocationValue\": {\\...</td>\n",
       "    </tr>\n",
       "    <tr>\n",
       "      <th>1</th>\n",
       "      <td>2017</td>\n",
       "      <td>Kaweri</td>\n",
       "      <td>NFA</td>\n",
       "      <td>4297.979169</td>\n",
       "      <td>625614.849598</td>\n",
       "      <td>Eucalyptus grandis</td>\n",
       "      <td>Broadleaved</td>\n",
       "      <td>Victoria Water Management Zo</td>\n",
       "      <td>Kaweri NFA</td>\n",
       "      <td>NFA_Plantations_Jan2021</td>\n",
       "      <td>2</td>\n",
       "      <td>POLYGON ((31.44150 0.60583, 31.44150 0.58782, ...</td>\n",
       "      <td>ee.Geometry({\\n  \"functionInvocationValue\": {\\...</td>\n",
       "    </tr>\n",
       "  </tbody>\n",
       "</table>\n",
       "</div>"
      ],
      "text/plain": [
       "   YEAR_ RESERVE Ownership   Shape_Leng     Shape_Area             SP_Name  \\\n",
       "0   2006  Bujawe       NFA  2742.477747  271665.183923  Eucalyptus grandis   \n",
       "1   2017  Kaweri       NFA  4297.979169  625614.849598  Eucalyptus grandis   \n",
       "\n",
       "      Sp_class                    water_mgtZ        Name  \\\n",
       "0  Broadleaved  Albert Water Management Zone   BujaweNFA   \n",
       "1  Broadleaved  Victoria Water Management Zo  Kaweri NFA   \n",
       "\n",
       "                     layer  id  \\\n",
       "0  NFA_Plantations_Jan2021   1   \n",
       "1  NFA_Plantations_Jan2021   2   \n",
       "\n",
       "                                            geometry  \\\n",
       "0  POLYGON ((31.20757 1.54930, 31.20757 1.53128, ...   \n",
       "1  POLYGON ((31.44150 0.60583, 31.44150 0.58782, ...   \n",
       "\n",
       "                                         ee_geometry  \n",
       "0  ee.Geometry({\\n  \"functionInvocationValue\": {\\...  \n",
       "1  ee.Geometry({\\n  \"functionInvocationValue\": {\\...  "
      ]
     },
     "execution_count": 9,
     "metadata": {},
     "output_type": "execute_result"
    }
   ],
   "source": [
    "# create a list of ee object based on the shapely figures in geopandas\n",
    "import ee\n",
    "\n",
    "ee.Initialize() \n",
    "\n",
    "# decide not to use a lis comprehension for readability \n",
    "ee_squares = []\n",
    "for index, row in squares.iterrows():\n",
    "    ee_square = ee.Geometry.Polygon(list(row['geometry'].exterior.coords))\n",
    "    ee_squares.append(ee_square)\n",
    "    \n",
    "# add these ee_polygons to he dataset \n",
    "squares['ee_geometry'] = ee_squares\n",
    "squares.head()"
   ]
  },
  {
   "cell_type": "code",
   "execution_count": 10,
   "metadata": {},
   "outputs": [
    {
     "data": {
      "application/vnd.jupyter.widget-view+json": {
       "model_id": "3cece89af2fd4181bc379370b9a6868f",
       "version_major": 2,
       "version_minor": 0
      },
      "text/plain": [
       "Styles()"
      ]
     },
     "metadata": {},
     "output_type": "display_data"
    },
    {
     "data": {
      "application/vnd.jupyter.widget-view+json": {
       "model_id": "7bbc234747894c28b01743991f6092bd",
       "version_major": 2,
       "version_minor": 0
      },
      "text/plain": [
       "SepalMap(center=[1.5402918372065977, 31.198558429906072], controls=(ZoomControl(options=['position', 'zoom_in_…"
      ]
     },
     "metadata": {},
     "output_type": "display_data"
    }
   ],
   "source": [
    "# check if the result is effectively a square\n",
    "from sepal_ui import mapping as sm \n",
    "import geemap\n",
    "\n",
    "m = sm.SepalMap(['CartoDB.Positron'])\n",
    "\n",
    "# displays the first nb_squares squares\n",
    "for index, row in squares.iterrows():\n",
    "    m.addLayer(row['ee_geometry'], {'color':'red'}, row['Name'])\n",
    "    if index == 0:\n",
    "        m.centerObject(row['ee_geometry'], zoom=14)\n",
    "    if index > min(len(squares), nb_squares):\n",
    "        break\n",
    "m"
   ]
  },
  {
   "cell_type": "markdown",
   "metadata": {},
   "source": [
    "## Create the tif file in earthengine "
   ]
  },
  {
   "cell_type": "code",
   "execution_count": 11,
   "metadata": {
    "scrolled": true
   },
   "outputs": [
    {
     "data": {
      "application/vnd.jupyter.widget-view+json": {
       "model_id": "20a9a769a075469fbe6fe72ede8bb21c",
       "version_major": 2,
       "version_minor": 0
      },
      "text/plain": [
       "Alert(class_='mt-5', text=True, type='info')"
      ]
     },
     "metadata": {},
     "output_type": "display_data"
    }
   ],
   "source": [
    "from sepal_ui import sepalwidgets as sw\n",
    "\n",
    "output = sw.Alert()\n",
    "output.show()"
   ]
  },
  {
   "cell_type": "code",
   "execution_count": 12,
   "metadata": {},
   "outputs": [
    {
     "data": {
      "application/vnd.jupyter.widget-view+json": {
       "model_id": "66b42d155f6a46b5bf5ef551ed72b642",
       "version_major": 2,
       "version_minor": 0
      },
      "text/plain": [
       "DownloadBtn(children=[Icon(children=['mdi-download'], left=True), 'clickable link'], class_='ma-2', color='suc…"
      ]
     },
     "metadata": {},
     "output_type": "display_data"
    }
   ],
   "source": [
    "from scripts import *\n",
    "\n",
    "path = createPDF(polygon_file, squares, polygons, bands_combo, sources, output)\n",
    "sw.DownloadBtn('clickable link', path)"
   ]
  },
  {
   "cell_type": "code",
   "execution_count": null,
   "metadata": {},
   "outputs": [],
   "source": []
  }
 ],
 "metadata": {
  "kernelspec": {
   "display_name": "Python 3",
   "language": "python",
   "name": "python3"
  },
  "language_info": {
   "codemirror_mode": {
    "name": "ipython",
    "version": 3
   },
   "file_extension": ".py",
   "mimetype": "text/x-python",
   "name": "python",
   "nbconvert_exporter": "python",
   "pygments_lexer": "ipython3",
   "version": "3.6.9"
  }
 },
 "nbformat": 4,
 "nbformat_minor": 4
}
