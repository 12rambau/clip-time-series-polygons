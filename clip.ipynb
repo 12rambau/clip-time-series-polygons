{
 "cells": [
  {
   "cell_type": "code",
   "execution_count": null,
   "metadata": {},
   "outputs": [],
   "source": [
    "#import parameters \n",
    "from parameters import *"
   ]
  },
  {
   "cell_type": "markdown",
   "metadata": {},
   "source": [
    "## Read the polygons file "
   ]
  },
  {
   "cell_type": "code",
   "execution_count": null,
   "metadata": {},
   "outputs": [],
   "source": [
    "import os \n",
    "\n",
    "polygon_file = os.path.expanduser(polygon_file)\n",
    "\n",
    "#verify that the file existe \n",
    "print(os.path.isfile(polygon_file))"
   ]
  },
  {
   "cell_type": "markdown",
   "metadata": {},
   "source": [
    "## Read the polygons file "
   ]
  },
  {
   "cell_type": "code",
   "execution_count": null,
   "metadata": {},
   "outputs": [],
   "source": [
    "#insert the polygons in a geopandas dataframe\n",
    "import geopandas as gdp \n",
    "\n",
    "polygons = gdp.read_file(polygon_file)\n",
    "polygons.head()"
   ]
  },
  {
   "cell_type": "code",
   "execution_count": null,
   "metadata": {},
   "outputs": [],
   "source": [
    "#only select the specific one (if test mode)\n",
    "if test_mode:\n",
    "    polygons = polygons[polygons['id'] < 3]\n",
    "polygons"
   ]
  },
  {
   "cell_type": "code",
   "execution_count": null,
   "metadata": {},
   "outputs": [],
   "source": [
    "#transform the polygon into a square\n",
    "from utils import *\n",
    "\n",
    "squares = polygons.copy()\n",
    "squares['geometry'] = squares['geometry'].map(to_square)\n",
    "\n",
    "squares.head()"
   ]
  },
  {
   "cell_type": "code",
   "execution_count": null,
   "metadata": {},
   "outputs": [],
   "source": [
    "#create a list of ee object based on the shapely figures in geopandas\n",
    "import ee\n",
    "\n",
    "ee.Initialize() \n",
    "\n",
    "#decide not to use a lis comprehension for readability \n",
    "ee_squares = []\n",
    "for index, row in squares.iterrows():\n",
    "    ee_square = ee.Geometry.Polygon(list(row['geometry'].exterior.coords))\n",
    "    ee_squares.append(ee_square)\n",
    "    \n",
    "#add these ee_polygons to he dataset \n",
    "squares['ee_geometry'] = ee_squares\n",
    "squares.head()"
   ]
  },
  {
   "cell_type": "code",
   "execution_count": null,
   "metadata": {},
   "outputs": [],
   "source": [
    "# check if the result is effectively a square\n",
    "from sepal_ui import mapping as sm \n",
    "import geemap\n",
    "\n",
    "m = sm.SepalMap(['CartoDB.Positron'])\n",
    "\n",
    "#displays the first nb_squares squares\n",
    "for index, row in squares.iterrows():\n",
    "    m.addLayer(row['ee_geometry'], {'color':'red'}, row['Name'])\n",
    "    if index == 0:\n",
    "        m.centerObject(row['ee_geometry'], zoom=14)\n",
    "    if index > min(len(squares), nb_squares):\n",
    "        break\n",
    "m"
   ]
  },
  {
   "cell_type": "markdown",
   "metadata": {},
   "source": [
    "## Create the tif file in earthengine "
   ]
  },
  {
   "cell_type": "code",
   "execution_count": null,
   "metadata": {
    "scrolled": true
   },
   "outputs": [],
   "source": [
    "from sepal_ui import sepalwidgets as sw\n",
    "\n",
    "output = sw.Alert()\n",
    "output.show()"
   ]
  },
  {
   "cell_type": "code",
   "execution_count": null,
   "metadata": {},
   "outputs": [],
   "source": [
    "from scripts import *\n",
    "\n",
    "path = createPDF(polygon_file, squares, polygons, bands_combo, sources, output)\n",
    "sw.DownloadBtn('clickable link', path)"
   ]
  },
  {
   "cell_type": "code",
   "execution_count": null,
   "metadata": {},
   "outputs": [],
   "source": []
  }
 ],
 "metadata": {
  "kernelspec": {
   "display_name": "Python 3",
   "language": "python",
   "name": "python3"
  },
  "language_info": {
   "codemirror_mode": {
    "name": "ipython",
    "version": 3
   },
   "file_extension": ".py",
   "mimetype": "text/x-python",
   "name": "python",
   "nbconvert_exporter": "python",
   "pygments_lexer": "ipython3",
   "version": "3.6.9"
  }
 },
 "nbformat": 4,
 "nbformat_minor": 4
}
