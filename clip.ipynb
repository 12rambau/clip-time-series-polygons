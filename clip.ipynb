{
 "cells": [
  {
   "cell_type": "code",
   "execution_count": 1,
   "metadata": {},
   "outputs": [],
   "source": [
    "#import parameters \n",
    "from parameters import *"
   ]
  },
  {
   "cell_type": "markdown",
   "metadata": {},
   "source": [
    "## Read the polygons file "
   ]
  },
  {
   "cell_type": "code",
   "execution_count": 2,
   "metadata": {},
   "outputs": [
    {
     "name": "stdout",
     "output_type": "stream",
     "text": [
      "True\n"
     ]
    }
   ],
   "source": [
    "import os \n",
    "\n",
    "#verify that the file existe \n",
    "print(os.path.isfile(polygon_file))"
   ]
  },
  {
   "cell_type": "markdown",
   "metadata": {},
   "source": [
    "## Read the polygons file "
   ]
  },
  {
   "cell_type": "code",
   "execution_count": 3,
   "metadata": {},
   "outputs": [
    {
     "data": {
      "text/html": [
       "<div>\n",
       "<style scoped>\n",
       "    .dataframe tbody tr th:only-of-type {\n",
       "        vertical-align: middle;\n",
       "    }\n",
       "\n",
       "    .dataframe tbody tr th {\n",
       "        vertical-align: top;\n",
       "    }\n",
       "\n",
       "    .dataframe thead th {\n",
       "        text-align: right;\n",
       "    }\n",
       "</style>\n",
       "<table border=\"1\" class=\"dataframe\">\n",
       "  <thead>\n",
       "    <tr style=\"text-align: right;\">\n",
       "      <th></th>\n",
       "      <th>Name</th>\n",
       "      <th>forestTyp</th>\n",
       "      <th>changeTyp</th>\n",
       "      <th>id</th>\n",
       "      <th>geometry</th>\n",
       "    </tr>\n",
       "  </thead>\n",
       "  <tbody>\n",
       "    <tr>\n",
       "      <th>0</th>\n",
       "      <td>Kabale</td>\n",
       "      <td>plantation</td>\n",
       "      <td>gain</td>\n",
       "      <td>1</td>\n",
       "      <td>POLYGON Z ((30.15580 -1.26470 0.00000, 30.1567...</td>\n",
       "    </tr>\n",
       "    <tr>\n",
       "      <th>1</th>\n",
       "      <td>Sheema</td>\n",
       "      <td>plantation</td>\n",
       "      <td>gain</td>\n",
       "      <td>2</td>\n",
       "      <td>POLYGON Z ((30.39303 -0.50534 0.00000, 30.3947...</td>\n",
       "    </tr>\n",
       "    <tr>\n",
       "      <th>2</th>\n",
       "      <td>Kikonda_CFR_Central UG</td>\n",
       "      <td>plantation</td>\n",
       "      <td>gain</td>\n",
       "      <td>3</td>\n",
       "      <td>POLYGON Z ((31.48875 1.20014 0.00000, 31.50048...</td>\n",
       "    </tr>\n",
       "    <tr>\n",
       "      <th>3</th>\n",
       "      <td>Ongom_CFR</td>\n",
       "      <td>plantation</td>\n",
       "      <td>gain</td>\n",
       "      <td>4</td>\n",
       "      <td>POLYGON Z ((33.11916 2.25799 0.00000, 33.12578...</td>\n",
       "    </tr>\n",
       "    <tr>\n",
       "      <th>4</th>\n",
       "      <td>Polygon inside Bukaleba CFR_Eastern UG</td>\n",
       "      <td>plantation</td>\n",
       "      <td>gain</td>\n",
       "      <td>5</td>\n",
       "      <td>POLYGON Z ((33.37151 0.36414 0.00000, 33.37596...</td>\n",
       "    </tr>\n",
       "  </tbody>\n",
       "</table>\n",
       "</div>"
      ],
      "text/plain": [
       "                                     Name   forestTyp changeTyp  id  \\\n",
       "0                                  Kabale  plantation      gain   1   \n",
       "1                                  Sheema  plantation      gain   2   \n",
       "2                  Kikonda_CFR_Central UG  plantation      gain   3   \n",
       "3                               Ongom_CFR  plantation      gain   4   \n",
       "4  Polygon inside Bukaleba CFR_Eastern UG  plantation      gain   5   \n",
       "\n",
       "                                            geometry  \n",
       "0  POLYGON Z ((30.15580 -1.26470 0.00000, 30.1567...  \n",
       "1  POLYGON Z ((30.39303 -0.50534 0.00000, 30.3947...  \n",
       "2  POLYGON Z ((31.48875 1.20014 0.00000, 31.50048...  \n",
       "3  POLYGON Z ((33.11916 2.25799 0.00000, 33.12578...  \n",
       "4  POLYGON Z ((33.37151 0.36414 0.00000, 33.37596...  "
      ]
     },
     "execution_count": 3,
     "metadata": {},
     "output_type": "execute_result"
    }
   ],
   "source": [
    "#insert the polygons in a geopandas dataframe\n",
    "import geopandas as gdp \n",
    "\n",
    "polygons = gdp.read_file(polygon_file)\n",
    "polygons.head()"
   ]
  },
  {
   "cell_type": "code",
   "execution_count": 4,
   "metadata": {},
   "outputs": [
    {
     "data": {
      "text/html": [
       "<div>\n",
       "<style scoped>\n",
       "    .dataframe tbody tr th:only-of-type {\n",
       "        vertical-align: middle;\n",
       "    }\n",
       "\n",
       "    .dataframe tbody tr th {\n",
       "        vertical-align: top;\n",
       "    }\n",
       "\n",
       "    .dataframe thead th {\n",
       "        text-align: right;\n",
       "    }\n",
       "</style>\n",
       "<table border=\"1\" class=\"dataframe\">\n",
       "  <thead>\n",
       "    <tr style=\"text-align: right;\">\n",
       "      <th></th>\n",
       "      <th>Name</th>\n",
       "      <th>forestTyp</th>\n",
       "      <th>changeTyp</th>\n",
       "      <th>id</th>\n",
       "      <th>geometry</th>\n",
       "    </tr>\n",
       "  </thead>\n",
       "  <tbody>\n",
       "    <tr>\n",
       "      <th>0</th>\n",
       "      <td>Kabale</td>\n",
       "      <td>plantation</td>\n",
       "      <td>gain</td>\n",
       "      <td>1</td>\n",
       "      <td>POLYGON Z ((30.15580 -1.26470 0.00000, 30.1567...</td>\n",
       "    </tr>\n",
       "    <tr>\n",
       "      <th>1</th>\n",
       "      <td>Sheema</td>\n",
       "      <td>plantation</td>\n",
       "      <td>gain</td>\n",
       "      <td>2</td>\n",
       "      <td>POLYGON Z ((30.39303 -0.50534 0.00000, 30.3947...</td>\n",
       "    </tr>\n",
       "  </tbody>\n",
       "</table>\n",
       "</div>"
      ],
      "text/plain": [
       "     Name   forestTyp changeTyp  id  \\\n",
       "0  Kabale  plantation      gain   1   \n",
       "1  Sheema  plantation      gain   2   \n",
       "\n",
       "                                            geometry  \n",
       "0  POLYGON Z ((30.15580 -1.26470 0.00000, 30.1567...  \n",
       "1  POLYGON Z ((30.39303 -0.50534 0.00000, 30.3947...  "
      ]
     },
     "execution_count": 4,
     "metadata": {},
     "output_type": "execute_result"
    }
   ],
   "source": [
    "#only select the first one (debug only)\n",
    "polygons = polygons[polygons['id'] < 3]\n",
    "polygons"
   ]
  },
  {
   "cell_type": "code",
   "execution_count": 5,
   "metadata": {},
   "outputs": [
    {
     "data": {
      "text/html": [
       "<div>\n",
       "<style scoped>\n",
       "    .dataframe tbody tr th:only-of-type {\n",
       "        vertical-align: middle;\n",
       "    }\n",
       "\n",
       "    .dataframe tbody tr th {\n",
       "        vertical-align: top;\n",
       "    }\n",
       "\n",
       "    .dataframe thead th {\n",
       "        text-align: right;\n",
       "    }\n",
       "</style>\n",
       "<table border=\"1\" class=\"dataframe\">\n",
       "  <thead>\n",
       "    <tr style=\"text-align: right;\">\n",
       "      <th></th>\n",
       "      <th>Name</th>\n",
       "      <th>forestTyp</th>\n",
       "      <th>changeTyp</th>\n",
       "      <th>id</th>\n",
       "      <th>geometry</th>\n",
       "    </tr>\n",
       "  </thead>\n",
       "  <tbody>\n",
       "    <tr>\n",
       "      <th>0</th>\n",
       "      <td>Kabale</td>\n",
       "      <td>plantation</td>\n",
       "      <td>gain</td>\n",
       "      <td>1</td>\n",
       "      <td>POLYGON ((30.16613 -1.25620, 30.16613 -1.27420...</td>\n",
       "    </tr>\n",
       "    <tr>\n",
       "      <th>1</th>\n",
       "      <td>Sheema</td>\n",
       "      <td>plantation</td>\n",
       "      <td>gain</td>\n",
       "      <td>2</td>\n",
       "      <td>POLYGON ((30.40484 -0.49869, 30.40484 -0.51669...</td>\n",
       "    </tr>\n",
       "  </tbody>\n",
       "</table>\n",
       "</div>"
      ],
      "text/plain": [
       "     Name   forestTyp changeTyp  id  \\\n",
       "0  Kabale  plantation      gain   1   \n",
       "1  Sheema  plantation      gain   2   \n",
       "\n",
       "                                            geometry  \n",
       "0  POLYGON ((30.16613 -1.25620, 30.16613 -1.27420...  \n",
       "1  POLYGON ((30.40484 -0.49869, 30.40484 -0.51669...  "
      ]
     },
     "execution_count": 5,
     "metadata": {},
     "output_type": "execute_result"
    }
   ],
   "source": [
    "#transform the polygon into a square\n",
    "from utils import *\n",
    "\n",
    "squares = polygons.copy()\n",
    "squares['geometry'] = squares['geometry'].map(to_square)\n",
    "\n",
    "squares.head()"
   ]
  },
  {
   "cell_type": "code",
   "execution_count": 6,
   "metadata": {},
   "outputs": [
    {
     "data": {
      "text/html": [
       "<div>\n",
       "<style scoped>\n",
       "    .dataframe tbody tr th:only-of-type {\n",
       "        vertical-align: middle;\n",
       "    }\n",
       "\n",
       "    .dataframe tbody tr th {\n",
       "        vertical-align: top;\n",
       "    }\n",
       "\n",
       "    .dataframe thead th {\n",
       "        text-align: right;\n",
       "    }\n",
       "</style>\n",
       "<table border=\"1\" class=\"dataframe\">\n",
       "  <thead>\n",
       "    <tr style=\"text-align: right;\">\n",
       "      <th></th>\n",
       "      <th>Name</th>\n",
       "      <th>forestTyp</th>\n",
       "      <th>changeTyp</th>\n",
       "      <th>id</th>\n",
       "      <th>geometry</th>\n",
       "      <th>ee_geometry</th>\n",
       "    </tr>\n",
       "  </thead>\n",
       "  <tbody>\n",
       "    <tr>\n",
       "      <th>0</th>\n",
       "      <td>Kabale</td>\n",
       "      <td>plantation</td>\n",
       "      <td>gain</td>\n",
       "      <td>1</td>\n",
       "      <td>POLYGON ((30.16613 -1.25620, 30.16613 -1.27420...</td>\n",
       "      <td>ee.Geometry({\\n  \"type\": \"Polygon\",\\n  \"coordi...</td>\n",
       "    </tr>\n",
       "    <tr>\n",
       "      <th>1</th>\n",
       "      <td>Sheema</td>\n",
       "      <td>plantation</td>\n",
       "      <td>gain</td>\n",
       "      <td>2</td>\n",
       "      <td>POLYGON ((30.40484 -0.49869, 30.40484 -0.51669...</td>\n",
       "      <td>ee.Geometry({\\n  \"type\": \"Polygon\",\\n  \"coordi...</td>\n",
       "    </tr>\n",
       "  </tbody>\n",
       "</table>\n",
       "</div>"
      ],
      "text/plain": [
       "     Name   forestTyp changeTyp  id  \\\n",
       "0  Kabale  plantation      gain   1   \n",
       "1  Sheema  plantation      gain   2   \n",
       "\n",
       "                                            geometry  \\\n",
       "0  POLYGON ((30.16613 -1.25620, 30.16613 -1.27420...   \n",
       "1  POLYGON ((30.40484 -0.49869, 30.40484 -0.51669...   \n",
       "\n",
       "                                         ee_geometry  \n",
       "0  ee.Geometry({\\n  \"type\": \"Polygon\",\\n  \"coordi...  \n",
       "1  ee.Geometry({\\n  \"type\": \"Polygon\",\\n  \"coordi...  "
      ]
     },
     "execution_count": 6,
     "metadata": {},
     "output_type": "execute_result"
    }
   ],
   "source": [
    "#create a list of ee object based on the shapely figures in geopandas\n",
    "import ee\n",
    "\n",
    "ee.Initialize() \n",
    "\n",
    "#decide not to use a lis comprehension for readability \n",
    "ee_squares = []\n",
    "for index, row in squares.iterrows():\n",
    "    ee_square = ee.Geometry.Polygon(list(row['geometry'].exterior.coords))\n",
    "    ee_squares.append(ee_square)\n",
    "    \n",
    "#add these ee_polygons to he dataset \n",
    "squares['ee_geometry'] = ee_squares\n",
    "squares.head()"
   ]
  },
  {
   "cell_type": "code",
   "execution_count": 7,
   "metadata": {},
   "outputs": [
    {
     "data": {
      "application/vnd.jupyter.widget-view+json": {
       "model_id": "af3ce354ccdc4d83ae6af1a27cf1713a",
       "version_major": 2,
       "version_minor": 0
      },
      "text/plain": [
       "SepalMap(center=[-1.2651993964163877, 30.157129933963912], controls=(ZoomControl(options=['position', 'zoom_in…"
      ]
     },
     "metadata": {},
     "output_type": "display_data"
    }
   ],
   "source": [
    "# check if the result is effectively a square\n",
    "from sepal_ui import mapping as sm \n",
    "import geemap\n",
    "\n",
    "m = sm.SepalMap()\n",
    "\n",
    "#displays the first nb_squares squares\n",
    "for index, row in squares.iterrows():\n",
    "    m.addLayer(row['ee_geometry'], {'color':'red'}, row['Name'])\n",
    "    if row['id'] == 1:\n",
    "        m.centerObject(row['ee_geometry'], zoom=14)\n",
    "    if index > min(len(squares), nb_squares):\n",
    "        break\n",
    "m"
   ]
  },
  {
   "cell_type": "markdown",
   "metadata": {},
   "source": [
    "## Create the tif file in earthengine "
   ]
  },
  {
   "cell_type": "code",
   "execution_count": 8,
   "metadata": {},
   "outputs": [
    {
     "data": {
      "application/vnd.jupyter.widget-view+json": {
       "model_id": "4715e5a18bc945f6be5b8d8f04e01c07",
       "version_major": 2,
       "version_minor": 0
      },
      "text/plain": [
       "Alert(children=[''], class_='mt-5 ', text=True, type='info')"
      ]
     },
     "metadata": {},
     "output_type": "display_data"
    }
   ],
   "source": [
    "from sepal_ui import sepalwidgets as sw\n",
    "\n",
    "output = sw.Alert()\n",
    "output.show()"
   ]
  },
  {
   "cell_type": "code",
   "execution_count": 9,
   "metadata": {},
   "outputs": [
    {
     "data": {
      "application/vnd.jupyter.widget-view+json": {
       "model_id": "dc43355ce55d4e4593b187c2b5ccbe3b",
       "version_major": 2,
       "version_minor": 0
      },
      "text/plain": [
       "DownloadBtn(children=[Icon(children=['mdi-download'], left=True), 'clickable link'], class_='ma-2', color='suc…"
      ]
     },
     "metadata": {},
     "output_type": "display_data"
    }
   ],
   "source": [
    "from scripts import *\n",
    "\n",
    "path = createPDF(polygon_file, squares, bands_combo, sources, output)\n",
    "sw.DownloadBtn('clickable link', path)"
   ]
  },
  {
   "cell_type": "code",
   "execution_count": 10,
   "metadata": {},
   "outputs": [
    {
     "data": {
      "text/plain": [
       "<AxesSubplot:>"
      ]
     },
     "execution_count": 10,
     "metadata": {},
     "output_type": "execute_result"
    },
    {
     "data": {
      "image/png": "[encoded data removed]",
      "text/plain": [
       "<Figure size 432x288 with 1 Axes>"
      ]
     },
     "metadata": {
      "needs_background": "light"
     },
     "output_type": "display_data"
    }
   ],
   "source": [
    "polygons.plot()"
   ]
  },
  {
   "cell_type": "code",
   "execution_count": null,
   "metadata": {},
   "outputs": [],
   "source": []
  }
 ],
 "metadata": {
  "kernelspec": {
   "display_name": "Python 3",
   "language": "python",
   "name": "python3"
  },
  "language_info": {
   "codemirror_mode": {
    "name": "ipython",
    "version": 3
   },
   "file_extension": ".py",
   "mimetype": "text/x-python",
   "name": "python",
   "nbconvert_exporter": "python",
   "pygments_lexer": "ipython3",
   "version": "3.6.9"
  }
 },
 "nbformat": 4,
 "nbformat_minor": 2
}
